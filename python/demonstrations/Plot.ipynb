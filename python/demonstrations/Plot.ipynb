{
 "cells": [
  {
   "cell_type": "code",
   "execution_count": null,
   "metadata": {
    "collapsed": true
   },
   "outputs": [],
   "source": [
    "import json\n",
    "import numpy as np\n",
    "import matplotlib.pyplot as plt\n",
    "\n",
    "model_dir = '/home/sexy/source/deep-visual-odometry/models/'\n",
    "\n",
    "with open(model_dir+\"alexNet_\"+netNum+'/eval_S.json') as data_file:    \n",
    "    data_S = json.load(data_file)\n",
    "with open(model_dir+\"alexNet_\"+netNum+'/eval_Tr.json') as data_file:    \n",
    "    data_Tr = json.load(data_file)\n",
    "with open(model_dir+\"alexNet_\"+netNum+'/eval_Te.json') as data_file:    \n",
    "    data_Te = json.load(data_file)\n",
    "\n",
    "plot_data = [[],[],[]]\n",
    "for i in range(11):\n",
    "    plot_data[0].append(np.asarray(data_S[i]))\n",
    "    plot_data[1].append(np.asarray(data_Tr[i]))\n",
    "    plot_data[2].append(np.asarray(data _Te[i]))\n"
   ]
  }
 ],
 "metadata": {
  "anaconda-cloud": {},
  "kernelspec": {
   "display_name": "Python [conda root]",
   "language": "python",
   "name": "conda-root-py"
  },
  "language_info": {
   "codemirror_mode": {
    "name": "ipython",
    "version": 3
   },
   "file_extension": ".py",
   "mimetype": "text/x-python",
   "name": "python",
   "nbconvert_exporter": "python",
   "pygments_lexer": "ipython3",
   "version": "3.5.2"
  }
 },
 "nbformat": 4,
 "nbformat_minor": 2
}
