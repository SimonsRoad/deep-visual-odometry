{
 "cells": [
  {
   "cell_type": "code",
   "execution_count": 1,
   "metadata": {
    "collapsed": true
   },
   "outputs": [],
   "source": [
    "import quaternion as q\n",
    "import numpy as np\n",
    "import pykitti\n",
    "import matplotlib.pyplot as plt"
   ]
  },
  {
   "cell_type": "code",
   "execution_count": 80,
   "metadata": {
    "collapsed": false
   },
   "outputs": [
    {
     "name": "stdout",
     "output_type": "stream",
     "text": [
      "Loading poses for sequence 00...\n",
      "done.\n",
      "Loading poses for sequence 01...\n",
      "done.\n",
      "Loading poses for sequence 02...\n",
      "done.\n",
      "Loading poses for sequence 03...\n",
      "done.\n",
      "Loading poses for sequence 04...\n",
      "done.\n",
      "Loading poses for sequence 05...\n",
      "done.\n",
      "Loading poses for sequence 06...\n",
      "done.\n",
      "Loading poses for sequence 07...\n",
      "done.\n",
      "Loading poses for sequence 08...\n",
      "done.\n",
      "Loading poses for sequence 09...\n",
      "done.\n",
      "Loading poses for sequence 10...\n",
      "done.\n"
     ]
    }
   ],
   "source": [
    "directoryL = \"/home/sexy/Documents/dataset/\"\n",
    "list_Y = [],[]\n",
    "for i in range(11):\n",
    "    data = pykitti.odometry(directoryL, str(i).zfill(2))\n",
    "    data.load_poses()\n",
    "\n",
    "    #Empty arrays to hold data\n",
    "    Translations = np.zeros((len(data.T_w_cam0),3))\n",
    "    Quaternions = np.zeros(len(data.T_w_cam0), dtype=q.quaternion)\n",
    "\n",
    "    #store quaternions and translations\n",
    "    for j in range(len(data.T_w_cam0)):\n",
    "        Translations[j,:] = data.T_w_cam0[j][:-1,-1]\n",
    "        Quaternions[j] = (q.from_rotation_matrix(data.T_w_cam0[j][:-1,:-1])).normalized()\n",
    "\n",
    "    # Make empty arrays to hold data\n",
    "    delta_trans = np.zeros((len(data.T_w_cam0),3))\n",
    "    corrected_delta_trans = np.zeros((len(data.T_w_cam0),3))\n",
    "    delta_quat = np.zeros(len(data.T_w_cam0),dtype=q.quaternion)\n",
    "\n",
    "    #Get translations between frames\n",
    "    delta_trans[:-1,:] = Translations[1:,:]-Translations[:-1,:]\n",
    "\n",
    "    #Correct translations to provide relative motion from car's perspective\n",
    "    for k in range(len(delta_trans)-1):\n",
    "        corrected_delta_trans[k] = (Quaternions[k]*q.quaternion(0.,*delta_trans[k])*Quaternions[k].conj()).vec\n",
    "\n",
    "    #get rotations between frames\n",
    "    delta_quat[:-1] = Quaternions[:-1].conj()*Quaternions[1:]\n",
    "\n",
    "    list_Y[0].append(corrected_delta_trans[:-1])\n",
    "    list_Y[1].append(delta_quat[:-i])"
   ]
  },
  {
   "cell_type": "code",
   "execution_count": 82,
   "metadata": {
    "collapsed": false
   },
   "outputs": [
    {
     "name": "stdout",
     "output_type": "stream",
     "text": [
      "(1200, 3)\n"
     ]
    }
   ],
   "source": [
    "print(list_Y[0][10].shape)"
   ]
  },
  {
   "cell_type": "code",
   "execution_count": null,
   "metadata": {
    "collapsed": true
   },
   "outputs": [],
   "source": []
  }
 ],
 "metadata": {
  "anaconda-cloud": {},
  "kernelspec": {
   "display_name": "Python [conda root]",
   "language": "python",
   "name": "conda-root-py"
  },
  "language_info": {
   "codemirror_mode": {
    "name": "ipython",
    "version": 3
   },
   "file_extension": ".py",
   "mimetype": "text/x-python",
   "name": "python",
   "nbconvert_exporter": "python",
   "pygments_lexer": "ipython3",
   "version": "3.5.2"
  }
 },
 "nbformat": 4,
 "nbformat_minor": 2
}
